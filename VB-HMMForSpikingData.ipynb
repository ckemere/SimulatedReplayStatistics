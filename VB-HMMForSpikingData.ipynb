{
 "cells": [
  {
   "cell_type": "code",
   "execution_count": 1,
   "metadata": {
    "collapsed": true
   },
   "outputs": [],
   "source": [
    "import pickle\n",
    "with open(\"vonMisesData_100neurons.p\", \"rb\") as input_file:\n",
    "    [NumNeurons, NeuronParameters, WorldParameters, Neurons, \n",
    "         NumTrajectories, TrajStartPos, RatRadialSpeed, TrajLength, SpikeRasters] = pickle.load(input_file)"
   ]
  },
  {
   "cell_type": "code",
   "execution_count": 2,
   "metadata": {
    "collapsed": false
   },
   "outputs": [
    {
     "name": "stderr",
     "output_type": "stream",
     "text": [
      "/Users/ckemere/anaconda/lib/python3.5/site-packages/matplotlib/__init__.py:872: UserWarning: axes.color_cycle is deprecated and replaced with axes.prop_cycle; please use the latter.\n",
      "  warnings.warn(self.msg_depr % (key, alt_key))\n"
     ]
    }
   ],
   "source": [
    "# All imports here...\n",
    "import numpy as np\n",
    "\n",
    "import time\n",
    "\n",
    "from hmmlearn import hmm # see https://github.com/ckemere/hmmlearn\n",
    "\n",
    "import seaborn as sns\n",
    "from matplotlib import pyplot as plt\n",
    "%matplotlib inline\n",
    "\n",
    "# display place field coverage of a particular environment\n",
    "sns.set(rc={'figure.figsize': (18, 4),'lines.linewidth': 2, 'font.size': 18, 'axes.labelsize': 16, 'legend.fontsize': 12, 'ytick.labelsize': 12, 'xtick.labelsize': 12 })\n",
    "sns.set_style(\"white\")"
   ]
  },
  {
   "cell_type": "code",
   "execution_count": 3,
   "metadata": {
    "collapsed": false
   },
   "outputs": [],
   "source": [
    "def BinSpikeRasters(Rasters, BinWidth=0.25, NBins=0) :\n",
    "    # Rasters is a list of ndarrays, where each array contains spike times for a neuron\n",
    "    if (NBins == 0) :\n",
    "        b = 0.0;\n",
    "        for spk_ts in Rasters :\n",
    "            if (len(spk_ts) > 0) :\n",
    "                b = max(b, (spk_ts[-1] / BinWidth))\n",
    "        NBins = np.int(np.ceil(b))\n",
    "    BinnedRasters = np.zeros((NBins, len(Rasters)), dtype=int)\n",
    "    \n",
    "    for k, spk_ts in enumerate(Rasters) :\n",
    "        for s in spk_ts :\n",
    "            BinnedRasters[np.int(s/BinWidth), k] += 1\n",
    "    return BinnedRasters"
   ]
  },
  {
   "cell_type": "code",
   "execution_count": 4,
   "metadata": {
    "collapsed": false
   },
   "outputs": [
    {
     "name": "stdout",
     "output_type": "stream",
     "text": [
      "Time elapsed for binning:  0.3785691261291504\n"
     ]
    }
   ],
   "source": [
    "\n",
    "t0 = time.time();\n",
    "# Train model with first environment\n",
    "NTrain = 90\n",
    "NTest = 10\n",
    "BinWidth = 0.25 # 250 ms bins\n",
    "NBins = np.int(TrajLength / BinWidth)\n",
    "TrainingData = []\n",
    "TrainingDataT = []\n",
    "for w in range(WorldParameters['NEnv']) :\n",
    "    TrainingData.append([])\n",
    "    TrainingDataT.append([])\n",
    "\n",
    "    for k in range(NTrain) :\n",
    "        d = BinSpikeRasters(SpikeRasters[w][k], BinWidth=BinWidth, NBins=NBins)\n",
    "        TrainingData[w].append(d)\n",
    "        TrainingDataT[w].append(d.T)\n",
    "        t1 = time.time();\n",
    "print(\"Time elapsed for binning: \", t1-t0)\n",
    "\n",
    "\n"
   ]
  },
  {
   "cell_type": "code",
   "execution_count": 5,
   "metadata": {
    "collapsed": false
   },
   "outputs": [
    {
     "data": {
      "image/png": "[encoded data removed]",
      "text/plain": [
       "<matplotlib.figure.Figure at 0x107b06e48>"
      ]
     },
     "metadata": {},
     "output_type": "display_data"
    }
   ],
   "source": [
    "f, axarr = plt.subplots(1,8)\n",
    "for k in range(8):\n",
    "    plt.sca(axarr[k])\n",
    "    plt.imshow(TrainingData[0][k].T, interpolation=\"none\",cmap=\"hot\")"
   ]
  },
  {
   "cell_type": "code",
   "execution_count": 6,
   "metadata": {
    "collapsed": false
   },
   "outputs": [],
   "source": [
    "StackedTrainingData = []\n",
    "TrainingSequenceLengths = []\n",
    "for w in range(WorldParameters['NEnv']) :\n",
    "    StackedTrainingData.append(np.vstack(TrainingData[w]))\n",
    "    TrainingSequenceLengths.append(np.zeros(NTrain, dtype=int))\n",
    "    for idx,l in enumerate(TrainingData[w]) :\n",
    "        (TrainingSequenceLengths[w][idx], ncols) = l.shape\n"
   ]
  },
  {
   "cell_type": "code",
   "execution_count": 7,
   "metadata": {
    "collapsed": false
   },
   "outputs": [],
   "source": [
    "from bayespy.nodes import Dirichlet\n",
    "from bayespy.nodes import Categorical\n",
    "from bayespy.nodes import CategoricalMarkovChain\n",
    "from bayespy.nodes import Mixture\n",
    "from bayespy.inference import VB\n",
    "from bayespy.nodes import Poisson, Gaussian, Wishart, Gamma\n",
    "\n",
    "K = 25 # >> K\n",
    "D=NumNeurons\n",
    "\n"
   ]
  },
  {
   "cell_type": "code",
   "execution_count": 8,
   "metadata": {
    "collapsed": false
   },
   "outputs": [],
   "source": [
    "# Mixture of Poisson model for both simple mixture and HMM\n",
    "beta = 100\n",
    "\n",
    "from scipy.cluster.vq import vq, kmeans\n",
    "(kmeans_clusters,distortion) = kmeans(StackedTrainingData[0].astype(float),K)\n",
    "\n",
    "alpha = np.mean(kmeans_clusters) * beta\n"
   ]
  },
  {
   "cell_type": "code",
   "execution_count": 9,
   "metadata": {
    "collapsed": false
   },
   "outputs": [],
   "source": [
    "\n",
    "\n",
    "rate_prior = Gamma(alpha, beta, plates=(D,1,K))\n",
    "rate_prior.initialize_from_value(np.expand_dims(kmeans_clusters.T + 1e-3,axis=1))\n",
    "\n",
    "\n",
    "initial_state = Dirichlet(1e-3*np.ones(K))\n",
    "transmat = Dirichlet(1e-3*np.ones((K,K)))\n",
    "\n",
    "Y = []\n",
    "Z = []\n",
    "for i in range(len(TrainingData[0])):\n",
    "    [nstates,nneurons]=TrainingData[0][i].shape\n",
    "    Z.append(CategoricalMarkovChain(initial_state, transmat, states=nstates))\n",
    "    Y.append(Mixture(Z[i], Poisson, rate_prior))\n",
    "    Y[i].observe(TrainingData[0][i].T)\n",
    "\n",
    "\n",
    "nodes = Y + Z + [rate_prior, transmat, initial_state]\n",
    "\n",
    "Q = VB(*nodes)"
   ]
  },
  {
   "cell_type": "code",
   "execution_count": 10,
   "metadata": {
    "collapsed": false
   },
   "outputs": [
    {
     "name": "stdout",
     "output_type": "stream",
     "text": [
      "Iteration 1: loglike=-1.891999e+05 (0.828 seconds)\n",
      "Iteration 2: loglike=-1.844639e+05 (0.820 seconds)\n",
      "Iteration 3: loglike=-1.814201e+05 (0.919 seconds)\n",
      "Iteration 4: loglike=-1.787010e+05 (0.883 seconds)\n",
      "Iteration 5: loglike=-1.765196e+05 (0.851 seconds)\n",
      "Iteration 6: loglike=-1.755400e+05 (0.827 seconds)\n",
      "Converged at iteration 6.\n",
      "Iteration 7: loglike=-1.757159e+05 (0.794 seconds)\n",
      "Iteration 8: loglike=-1.756544e+05 (0.811 seconds)\n",
      "Converged at iteration 8.\n",
      "Iteration 9: loglike=-1.760780e+05 (0.810 seconds)\n",
      "Iteration 10: loglike=-1.760329e+05 (0.849 seconds)\n",
      "Converged at iteration 10.\n"
     ]
    }
   ],
   "source": [
    "Q.set_annealing(0.8)\n",
    "Q.update(repeat=100, tol=1e-2)\n",
    "Q.set_annealing(0.9)\n",
    "Q.update(repeat=100, tol=1e-2)\n",
    "Q.set_annealing(1)\n",
    "Q.update(repeat=100, tol=1e-2)\n",
    "\n",
    "\n",
    "\n"
   ]
  },
  {
   "cell_type": "code",
   "execution_count": 16,
   "metadata": {
    "collapsed": false
   },
   "outputs": [
    {
     "name": "stderr",
     "output_type": "stream",
     "text": [
      "/Users/ckemere/anaconda/lib/python3.5/site-packages/matplotlib/__init__.py:872: UserWarning: axes.color_cycle is deprecated and replaced with axes.prop_cycle; please use the latter.\n",
      "  warnings.warn(self.msg_depr % (key, alt_key))\n"
     ]
    },
    {
     "data": {
      "text/plain": [
       "<matplotlib.image.AxesImage at 0x10784cb38>"
      ]
     },
     "execution_count": 16,
     "metadata": {},
     "output_type": "execute_result"
    },
    {
     "data": {
      "image/png": "[encoded data removed]",
      "text/plain": [
       "<matplotlib.figure.Figure at 0x109105c88>"
      ]
     },
     "metadata": {},
     "output_type": "display_data"
    }
   ],
   "source": [
    "mm = rate_prior.get_moments()\n",
    "sns.set(rc={'figure.figsize': (10, 5),'lines.linewidth': 2, 'font.size': 18, 'axes.labelsize': 16, 'legend.fontsize': 12, 'ytick.labelsize': 12, 'xtick.labelsize': 12 })\n",
    "sns.set_style('dark')\n",
    "plt.imshow(mm[0].squeeze().T, interpolation=\"none\", cmap=\"hot\")"
   ]
  },
  {
   "cell_type": "code",
   "execution_count": 12,
   "metadata": {
    "collapsed": false
   },
   "outputs": [
    {
     "name": "stdout",
     "output_type": "stream",
     "text": [
      " ~ Dirichlet(alpha)\n",
      "  alpha =\n",
      "[  1.00000000e-03   1.00000000e-03   1.00000000e-03   1.00000000e-03\n",
      "   2.71485006e+00   7.64271705e+00   1.00000000e-03   8.93984268e+00\n",
      "   1.00000000e-03   1.00000000e-03   1.00000000e-03   3.96888495e+00\n",
      "   6.00331013e+00   1.69955165e+01   7.42028300e+00   3.32009587e+00\n",
      "   1.00000000e-03   1.00000000e-03   1.00000000e-03   1.06984057e+01\n",
      "   1.39175457e+01   1.00000000e-03   8.38954842e+00   1.00000000e-03\n",
      "   1.00000000e-03]\n"
     ]
    }
   ],
   "source": [
    "initial_state.show()"
   ]
  },
  {
   "cell_type": "code",
   "execution_count": 17,
   "metadata": {
    "collapsed": false
   },
   "outputs": [
    {
     "data": {
      "text/plain": [
       "<matplotlib.image.AxesImage at 0x109a40978>"
      ]
     },
     "execution_count": 17,
     "metadata": {},
     "output_type": "execute_result"
    },
    {
     "data": {
      "image/png": "[encoded data removed]",
      "text/plain": [
       "<matplotlib.figure.Figure at 0x107b06c50>"
      ]
     },
     "metadata": {},
     "output_type": "display_data"
    }
   ],
   "source": [
    "Am = transmat.get_moments()\n",
    "plt.imshow(Am[0].squeeze(), interpolation=\"none\", cmap=\"hot\")"
   ]
  }
 ],
 "metadata": {
  "kernelspec": {
   "display_name": "Python 3",
   "language": "python",
   "name": "python3"
  },
  "language_info": {
   "codemirror_mode": {
    "name": "ipython",
    "version": 3
   },
   "file_extension": ".py",
   "mimetype": "text/x-python",
   "name": "python",
   "nbconvert_exporter": "python",
   "pygments_lexer": "ipython3",
   "version": "3.5.1"
  }
 },
 "nbformat": 4,
 "nbformat_minor": 0
}
