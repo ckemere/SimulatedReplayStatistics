{
 "cells": [
  {
   "cell_type": "code",
   "execution_count": 1,
   "metadata": {
    "collapsed": true
   },
   "outputs": [],
   "source": [
    "import pickle\n",
    "with open(\"vonMisesData_100neurons.p\", \"rb\") as input_file:\n",
    "    [NumNeurons, NeuronParameters, WorldParameters, Neurons, \n",
    "         NumTrajectories, TrajStartPos, RatRadialSpeed, TrajLength, SpikeRasters] = pickle.load(input_file)"
   ]
  },
  {
   "cell_type": "code",
   "execution_count": 2,
   "metadata": {
    "collapsed": false
   },
   "outputs": [
    {
     "name": "stderr",
     "output_type": "stream",
     "text": [
      "/Users/ckemere/anaconda/lib/python3.5/site-packages/matplotlib/__init__.py:872: UserWarning: axes.color_cycle is deprecated and replaced with axes.prop_cycle; please use the latter.\n",
      "  warnings.warn(self.msg_depr % (key, alt_key))\n"
     ]
    }
   ],
   "source": [
    "# All imports here...\n",
    "import numpy as np\n",
    "\n",
    "import time\n",
    "\n",
    "from hmmlearn import hmm # see https://github.com/ckemere/hmmlearn\n",
    "\n",
    "import seaborn as sns\n",
    "from matplotlib import pyplot as plt\n",
    "%matplotlib inline\n",
    "\n",
    "# display place field coverage of a particular environment\n",
    "sns.set(rc={'figure.figsize': (18, 4),'lines.linewidth': 2, 'font.size': 18, 'axes.labelsize': 16, 'legend.fontsize': 12, 'ytick.labelsize': 12, 'xtick.labelsize': 12 })\n",
    "sns.set_style(\"white\")"
   ]
  },
  {
   "cell_type": "code",
   "execution_count": 3,
   "metadata": {
    "collapsed": false
   },
   "outputs": [],
   "source": [
    "def BinSpikeRasters(Rasters, BinWidth=0.25, NBins=0) :\n",
    "    # Rasters is a list of ndarrays, where each array contains spike times for a neuron\n",
    "    if (NBins == 0) :\n",
    "        b = 0.0;\n",
    "        for spk_ts in Rasters :\n",
    "            if (len(spk_ts) > 0) :\n",
    "                b = max(b, (spk_ts[-1] / BinWidth))\n",
    "        NBins = np.int(np.ceil(b))\n",
    "    BinnedRasters = np.zeros((NBins, len(Rasters)))\n",
    "    \n",
    "    for k, spk_ts in enumerate(Rasters) :\n",
    "        for s in spk_ts :\n",
    "            BinnedRasters[np.int(s/BinWidth), k] += 1\n",
    "    return BinnedRasters"
   ]
  },
  {
   "cell_type": "code",
   "execution_count": 4,
   "metadata": {
    "collapsed": false
   },
   "outputs": [
    {
     "name": "stdout",
     "output_type": "stream",
     "text": [
      "Time elapsed for binning:  3.2310869693756104\n"
     ]
    }
   ],
   "source": [
    "\n",
    "t0 = time.time();\n",
    "# Train model with first environment\n",
    "NTrain = 500\n",
    "NTest = 500\n",
    "BinWidth = 0.25 # 250 ms bins\n",
    "NBins = np.int(TrajLength / BinWidth)\n",
    "TrainingData = []\n",
    "for w in range(WorldParameters['NEnv']) :\n",
    "    TrainingData.append([])\n",
    "    for k in range(NTrain) :\n",
    "        TrainingData[w].append(BinSpikeRasters(SpikeRasters[w][k], BinWidth=BinWidth, NBins=NBins))\n",
    "t1 = time.time();\n",
    "print(\"Time elapsed for binning: \", t1-t0)\n",
    "\n",
    "\n"
   ]
  },
  {
   "cell_type": "code",
   "execution_count": 5,
   "metadata": {
    "collapsed": false
   },
   "outputs": [],
   "source": [
    "StackedTrainingData = []\n",
    "TrainingSequenceLengths = []\n",
    "for w in range(WorldParameters['NEnv']) :\n",
    "    StackedTrainingData.append(np.vstack(TrainingData[w]))\n",
    "    TrainingSequenceLengths.append(np.zeros(NTrain, dtype=int))\n",
    "    for idx,l in enumerate(TrainingData[w]) :\n",
    "        (TrainingSequenceLengths[w][idx], ncols) = l.shape\n"
   ]
  },
  {
   "cell_type": "code",
   "execution_count": 6,
   "metadata": {
    "collapsed": false
   },
   "outputs": [],
   "source": [
    "# Compare different environments\n",
    "Model = []\n",
    "NStates = 10\n",
    "\n",
    "transmat_init = np.zeros((NStates,NStates))\n",
    "for i in range(NStates):\n",
    "    for j in range(NStates) :\n",
    "        if (i < j) :\n",
    "            transmat_init[i][j] = 0.5**(np.abs(i-j))\n",
    "        else :\n",
    "            transmat_init[i][j] = 0.01**(np.abs(i-j))\n",
    "\n",
    "from hmmlearn.utils import normalize\n",
    "transmat_init = normalize(transmat_init, axis=1)\n",
    "\n",
    "\n",
    "for w in range(WorldParameters['NEnv']) :\n",
    "    model = hmm.PoissonHMM(n_components=NStates, n_iter=200, tol=1e-4, init_params='smc')\n",
    "    model.transmat_ = transmat_init\n",
    "    Model.append(model)\n",
    "    #Model.append(hmm.GaussianHMM(n_components=NStates, covariance_type='diag', n_iter=100))\n"
   ]
  },
  {
   "cell_type": "code",
   "execution_count": 7,
   "metadata": {
    "collapsed": false
   },
   "outputs": [
    {
     "name": "stdout",
     "output_type": "stream",
     "text": [
      "25.13398003578186\n",
      "10.922106981277466\n",
      "7.757926940917969\n",
      "74.46022605895996\n",
      "9.045862197875977\n",
      "127.32182288169861\n"
     ]
    }
   ],
   "source": [
    "t0 = time.time();\n",
    "   \n",
    "for w in range(WorldParameters['NEnv']) :\n",
    "    t1 = time.time();\n",
    "    # Build an HMM instance and set parameters\n",
    "    Model[w].fit(StackedTrainingData[w], lengths=TrainingSequenceLengths[w])\n",
    "    t2 = time.time();\n",
    "    print(t2-t1)\n",
    "t3 = time.time();\n",
    "print(t3-t0) # ~300 s total for 1000 neurons"
   ]
  },
  {
   "cell_type": "code",
   "execution_count": 8,
   "metadata": {
    "collapsed": false
   },
   "outputs": [
    {
     "data": {
      "image/png": "[encoded data removed]",
      "text/plain": [
       "<matplotlib.figure.Figure at 0x10ada1dd8>"
      ]
     },
     "metadata": {},
     "output_type": "display_data"
    }
   ],
   "source": [
    "from hinton import hinton\n",
    "f, axarr = plt.subplots(1,WorldParameters[\"NEnv\"])\n",
    "for k in range(WorldParameters[\"NEnv\"]):\n",
    "    plt.sca(axarr[k])\n",
    "    hinton(Model[k].transmat_)\n"
   ]
  },
  {
   "cell_type": "code",
   "execution_count": 9,
   "metadata": {
    "collapsed": false
   },
   "outputs": [
    {
     "name": "stderr",
     "output_type": "stream",
     "text": [
      "/Users/ckemere/anaconda/lib/python3.5/site-packages/matplotlib/__init__.py:872: UserWarning: axes.color_cycle is deprecated and replaced with axes.prop_cycle; please use the latter.\n",
      "  warnings.warn(self.msg_depr % (key, alt_key))\n"
     ]
    },
    {
     "data": {
      "image/png": "[encoded data removed]",
      "text/plain": [
       "<matplotlib.figure.Figure at 0x10b105eb8>"
      ]
     },
     "metadata": {},
     "output_type": "display_data"
    }
   ],
   "source": [
    "sns.set(rc={'figure.figsize': (4, 18),'lines.linewidth': 2, 'font.size': 18, 'axes.labelsize': 16, 'legend.fontsize': 12, 'ytick.labelsize': 12, 'xtick.labelsize': 12 })\n",
    "plt.pcolor(Model[0].means_.T)\n",
    "sns.set(rc={'figure.figsize': (18, 4),'lines.linewidth': 2, 'font.size': 18, 'axes.labelsize': 16, 'legend.fontsize': 12, 'ytick.labelsize': 12, 'xtick.labelsize': 12 })\n"
   ]
  },
  {
   "cell_type": "code",
   "execution_count": 10,
   "metadata": {
    "collapsed": false
   },
   "outputs": [
    {
     "name": "stdout",
     "output_type": "stream",
     "text": [
      "1.1301701068878174\n",
      "2.10894513130188\n",
      "3.0662999153137207\n",
      "4.085987091064453\n",
      "5.13173508644104\n"
     ]
    }
   ],
   "source": [
    "SequenceLL = []\n",
    "t1 = time.time();\n",
    "for w in range(WorldParameters['NEnv']) :\n",
    "    SequenceLL.append(np.zeros(NTest))\n",
    "    \n",
    "for w in range(WorldParameters['NEnv']) :\n",
    "    for i in range(NTest) :\n",
    "        SequenceLL[w][i] = Model[0].score(BinSpikeRasters(SpikeRasters[w][NTrain + i]))\n",
    "    t2 = time.time();\n",
    "    print(t2-t1)\n"
   ]
  },
  {
   "cell_type": "code",
   "execution_count": 11,
   "metadata": {
    "collapsed": false
   },
   "outputs": [
    {
     "data": {
      "image/png": "[encoded data removed]",
      "text/plain": [
       "<matplotlib.figure.Figure at 0x10b602208>"
      ]
     },
     "metadata": {},
     "output_type": "display_data"
    }
   ],
   "source": [
    "plt.hist(SequenceLL,bins=50);"
   ]
  },
  {
   "cell_type": "code",
   "execution_count": null,
   "metadata": {
    "collapsed": true
   },
   "outputs": [],
   "source": []
  }
 ],
 "metadata": {
  "kernelspec": {
   "display_name": "Python 3",
   "language": "python",
   "name": "python3"
  },
  "language_info": {
   "codemirror_mode": {
    "name": "ipython",
    "version": 3
   },
   "file_extension": ".py",
   "mimetype": "text/x-python",
   "name": "python",
   "nbconvert_exporter": "python",
   "pygments_lexer": "ipython3",
   "version": "3.5.0"
  }
 },
 "nbformat": 4,
 "nbformat_minor": 0
}
