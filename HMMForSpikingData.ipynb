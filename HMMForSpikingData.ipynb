{
 "cells": [
  {
   "cell_type": "code",
   "execution_count": 1,
   "metadata": {
    "collapsed": true
   },
   "outputs": [],
   "source": [
    "import pickle\n",
    "with open(\"vonMisesData.p\", \"rb\") as input_file:\n",
    "    [NumNeurons, NeuronParameters, WorldParameters, Neurons, \n",
    "         NumTrajectories, TrajStartPos, RatRadialSpeed, TrajLength, SpikeRasters] = pickle.load(input_file)"
   ]
  },
  {
   "cell_type": "code",
   "execution_count": 2,
   "metadata": {
    "collapsed": false
   },
   "outputs": [],
   "source": [
    "import numpy as np\n",
    "def BinSpikeRasters(Rasters, BinWidth=0.25, NBins=0) :\n",
    "    # Rasters is a list of ndarrays, where each array contains spike times for a neuron\n",
    "    if (NBins == 0) :\n",
    "        b = 0.0;\n",
    "        for spk_ts in Rasters :\n",
    "            if (len(spk_ts) > 0) :\n",
    "                b = max(b, (spk_ts[-1] / BinWidth))\n",
    "        NBins = np.int(np.ceil(b))\n",
    "    BinnedRasters = np.zeros((NBins, len(Rasters)))\n",
    "    \n",
    "    for k, spk_ts in enumerate(Rasters) :\n",
    "        for s in spk_ts :\n",
    "            BinnedRasters[np.int(s/BinWidth), k] += 1\n",
    "    return BinnedRasters"
   ]
  },
  {
   "cell_type": "code",
   "execution_count": 3,
   "metadata": {
    "collapsed": false
   },
   "outputs": [
    {
     "name": "stdout",
     "output_type": "stream",
     "text": [
      "2.288800001144409\n"
     ]
    }
   ],
   "source": [
    "import time\n",
    "\n",
    "t0 = time.time();\n",
    "# Train model with first environment\n",
    "bb = BinSpikeRasters(SpikeRasters[0][0])\n",
    "NTrain = 500\n",
    "NTest = 500\n",
    "BinLength = 0.25 # 250 ms bins\n",
    "NBins = np.int(TrajLength / BinLength)\n",
    "TrainingData = []\n",
    "SequenceLengths = []\n",
    "for w in range(WorldParameters['NEnv']) :\n",
    "    TrainingData.append(np.zeros((NBins * NTrain, NumNeurons)))\n",
    "    SequenceLengths.append(np.zeros(NTrain))\n",
    "    for k in range(NTrain) :\n",
    "        TrainingData[w][(k*NBins):((k+1)*NBins), :] = BinSpikeRasters(SpikeRasters[w][k])\n",
    "        SequenceLengths[w][k] = NBins\n",
    "\n",
    "t1 = time.time();\n",
    "print(t1-t0)"
   ]
  },
  {
   "cell_type": "code",
   "execution_count": 4,
   "metadata": {
    "collapsed": false
   },
   "outputs": [
    {
     "name": "stdout",
     "output_type": "stream",
     "text": [
      "10.239694833755493\n",
      "14.143138885498047\n",
      "13.397693872451782\n",
      "8.281134128570557\n",
      "13.185663938522339\n",
      "59.24940800666809\n"
     ]
    },
    {
     "name": "stderr",
     "output_type": "stream",
     "text": [
      "/Users/ckemere/anaconda/lib/python3.5/site-packages/hmmlearn-0.2.0-py3.5-macosx-10.5-x86_64.egg/hmmlearn/utils.py:113: RuntimeWarning: divide by zero encountered in log\n",
      "  log_means = np.where(means > 0, np.log(means), 0)\n"
     ]
    }
   ],
   "source": [
    "from hmmlearn import hmm\n",
    "Model = []\n",
    "NStates = 10\n",
    "t0 = time.time();\n",
    "for w in range(WorldParameters['NEnv']) :\n",
    "    Model.append(hmm.PoissonHMM(n_components=NStates, n_iter=100))\n",
    "    #Model.append(hmm.GaussianHMM(n_components=NStates, covariance_type='diag', n_iter=100))\n",
    "\n",
    "\n",
    "for w in range(WorldParameters['NEnv']) :\n",
    "    t1 = time.time();\n",
    "    # Build an HMM instance and set parameters\n",
    "    Model[w].fit(TrainingData[w], lengths=SequenceLengths[w])\n",
    "    t2 = time.time();\n",
    "    print(t2-t1)\n",
    "t3 = time.time();\n",
    "print(t3-t0) # ~120 s total"
   ]
  },
  {
   "cell_type": "code",
   "execution_count": 5,
   "metadata": {
    "collapsed": false
   },
   "outputs": [
    {
     "name": "stderr",
     "output_type": "stream",
     "text": [
      "/Users/ckemere/anaconda/lib/python3.5/site-packages/hmmlearn-0.2.0-py3.5-macosx-10.5-x86_64.egg/hmmlearn/utils.py:113: RuntimeWarning: divide by zero encountered in log\n",
      "  log_means = np.where(means > 0, np.log(means), 0)\n"
     ]
    },
    {
     "data": {
      "text/plain": [
       "-7173.5301039236474"
      ]
     },
     "execution_count": 5,
     "metadata": {},
     "output_type": "execute_result"
    },
    {
     "data": {
      "image/png": "[encoded data removed]",
      "text/plain": [
       "<matplotlib.figure.Figure at 0x10554ceb8>"
      ]
     },
     "metadata": {},
     "output_type": "display_data"
    }
   ],
   "source": [
    "import bayespy.plot as bpplt\n",
    "%matplotlib inline\n",
    "bpplt.pyplot.figure()\n",
    "\n",
    "\n",
    "bpplt.hinton(Model[1].transmat_)\n",
    "\n",
    "bs = BinSpikeRasters(SpikeRasters[0][501])\n",
    "Model[0].score(bs)\n"
   ]
  },
  {
   "cell_type": "code",
   "execution_count": 6,
   "metadata": {
    "collapsed": false
   },
   "outputs": [
    {
     "name": "stdout",
     "output_type": "stream",
     "text": [
      "0.8132340908050537\n",
      "1.5046019554138184\n",
      "2.182731866836548\n",
      "2.8663110733032227\n",
      "3.565109968185425\n"
     ]
    },
    {
     "name": "stderr",
     "output_type": "stream",
     "text": [
      "/Users/ckemere/anaconda/lib/python3.5/site-packages/hmmlearn-0.2.0-py3.5-macosx-10.5-x86_64.egg/hmmlearn/utils.py:113: RuntimeWarning: divide by zero encountered in log\n",
      "  log_means = np.where(means > 0, np.log(means), 0)\n"
     ]
    }
   ],
   "source": [
    "SequenceLL = []\n",
    "t1 = time.time();\n",
    "for w in range(WorldParameters['NEnv']) :\n",
    "    SequenceLL.append(np.zeros(NTest))\n",
    "    \n",
    "for w in range(WorldParameters['NEnv']) :\n",
    "    for i in range(NTest) :\n",
    "        SequenceLL[w][i] = Model[0].score(BinSpikeRasters(SpikeRasters[w][NTrain + i]))\n",
    "    t2 = time.time();\n",
    "    print(t2-t1)\n"
   ]
  },
  {
   "cell_type": "code",
   "execution_count": 7,
   "metadata": {
    "collapsed": false
   },
   "outputs": [
    {
     "name": "stderr",
     "output_type": "stream",
     "text": [
      "/Users/ckemere/anaconda/lib/python3.5/site-packages/matplotlib/__init__.py:872: UserWarning: axes.color_cycle is deprecated and replaced with axes.prop_cycle; please use the latter.\n",
      "  warnings.warn(self.msg_depr % (key, alt_key))\n"
     ]
    }
   ],
   "source": [
    "import seaborn as sns\n",
    "from matplotlib import pyplot as plt\n",
    "%matplotlib inline\n",
    "\n",
    "# display place field coverage of a particular environment\n",
    "sns.set(rc={'figure.figsize': (12, 4),'lines.linewidth': 2, 'font.size': 18, 'axes.labelsize': 16, 'legend.fontsize': 12, 'ytick.labelsize': 12, 'xtick.labelsize': 12 })\n",
    "sns.set_style(\"white\")"
   ]
  },
  {
   "cell_type": "code",
   "execution_count": 10,
   "metadata": {
    "collapsed": false
   },
   "outputs": [
    {
     "data": {
      "image/png": "[encoded data removed]",
      "text/plain": [
       "<matplotlib.figure.Figure at 0x108f8ccc0>"
      ]
     },
     "metadata": {},
     "output_type": "display_data"
    }
   ],
   "source": [
    "plt.hist(SequenceLL,bins=50);"
   ]
  }
 ],
 "metadata": {
  "kernelspec": {
   "display_name": "Python 3",
   "language": "python",
   "name": "python3"
  },
  "language_info": {
   "codemirror_mode": {
    "name": "ipython",
    "version": 3
   },
   "file_extension": ".py",
   "mimetype": "text/x-python",
   "name": "python",
   "nbconvert_exporter": "python",
   "pygments_lexer": "ipython3",
   "version": "3.5.0"
  }
 },
 "nbformat": 4,
 "nbformat_minor": 0
}
