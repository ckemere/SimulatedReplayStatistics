{
 "cells": [
  {
   "cell_type": "code",
   "execution_count": 1,
   "metadata": {
    "collapsed": true
   },
   "outputs": [],
   "source": [
    "import pickle\n",
    "with open(\"vonMisesData_100neurons.p\", \"rb\") as input_file:\n",
    "    [NumNeurons, NeuronParameters, WorldParameters, Neurons, \n",
    "         NumTrajectories, TrajStartPos, RatRadialSpeed, TrajLength, SpikeRasters] = pickle.load(input_file)"
   ]
  },
  {
   "cell_type": "code",
   "execution_count": 2,
   "metadata": {
    "collapsed": false
   },
   "outputs": [
    {
     "name": "stderr",
     "output_type": "stream",
     "text": [
      "/Users/ckemere/anaconda/lib/python3.5/site-packages/matplotlib/__init__.py:872: UserWarning: axes.color_cycle is deprecated and replaced with axes.prop_cycle; please use the latter.\n",
      "  warnings.warn(self.msg_depr % (key, alt_key))\n"
     ]
    }
   ],
   "source": [
    "# All imports here...\n",
    "import numpy as np\n",
    "\n",
    "import time\n",
    "\n",
    "from hmmlearn import hmm # see https://github.com/ckemere/hmmlearn\n",
    "\n",
    "import seaborn as sns\n",
    "from matplotlib import pyplot as plt\n",
    "%matplotlib inline\n",
    "\n",
    "# display place field coverage of a particular environment\n",
    "sns.set(rc={'figure.figsize': (18, 4),'lines.linewidth': 2, 'font.size': 18, 'axes.labelsize': 16, 'legend.fontsize': 12, 'ytick.labelsize': 12, 'xtick.labelsize': 12 })\n",
    "sns.set_style(\"white\")"
   ]
  },
  {
   "cell_type": "code",
   "execution_count": 3,
   "metadata": {
    "collapsed": false
   },
   "outputs": [],
   "source": [
    "def BinSpikeRasters(Rasters, BinWidth=0.25, NBins=0) :\n",
    "    # Rasters is a list of ndarrays, where each array contains spike times for a neuron\n",
    "    if (NBins == 0) :\n",
    "        b = 0.0;\n",
    "        for spk_ts in Rasters :\n",
    "            if (len(spk_ts) > 0) :\n",
    "                b = max(b, (spk_ts[-1] / BinWidth))\n",
    "        NBins = np.int(np.ceil(b))\n",
    "    BinnedRasters = np.zeros((NBins, len(Rasters)))\n",
    "    \n",
    "    for k, spk_ts in enumerate(Rasters) :\n",
    "        for s in spk_ts :\n",
    "            BinnedRasters[np.int(s/BinWidth), k] += 1\n",
    "    return BinnedRasters"
   ]
  },
  {
   "cell_type": "code",
   "execution_count": 4,
   "metadata": {
    "collapsed": false
   },
   "outputs": [
    {
     "name": "stdout",
     "output_type": "stream",
     "text": [
      "Time elapsed for binning:  0.4883999824523926\n"
     ]
    }
   ],
   "source": [
    "\n",
    "t0 = time.time();\n",
    "# Train model with first environment\n",
    "NTrain = 90\n",
    "NTest = 10\n",
    "BinWidth = 0.25 # 250 ms bins\n",
    "NBins = np.int(TrajLength / BinWidth)\n",
    "TrainingData = []\n",
    "for w in range(WorldParameters['NEnv']) :\n",
    "    TrainingData.append([])\n",
    "    for k in range(NTrain) :\n",
    "        TrainingData[w].append(BinSpikeRasters(SpikeRasters[w][k], BinWidth=BinWidth, NBins=NBins))\n",
    "t1 = time.time();\n",
    "print(\"Time elapsed for binning: \", t1-t0)\n",
    "\n",
    "\n"
   ]
  },
  {
   "cell_type": "code",
   "execution_count": 5,
   "metadata": {
    "collapsed": false
   },
   "outputs": [],
   "source": [
    "[r,c] = TrainingData[w][0].shape\n",
    "StackedTrainingData = np.array((r,c))\n",
    "TrainingSequenceLengths = []\n",
    "\n",
    "\n",
    "for idx in range(len(TrainingData[0])) :\n",
    "    #l = np.random.random_integers(r/2,r)\n",
    "    l = r\n",
    "    TrainingSequenceLengths.append(l)\n",
    "\n",
    "    if (idx == 0) :\n",
    "        StackedTrainingData = TrainingData[0][idx][0:l,:]\n",
    "    else :\n",
    "        StackedTrainingData = np.vstack((StackedTrainingData,TrainingData[0][idx][0:l,:]))\n"
   ]
  },
  {
   "cell_type": "code",
   "execution_count": 14,
   "metadata": {
    "collapsed": false
   },
   "outputs": [
    {
     "name": "stdout",
     "output_type": "stream",
     "text": [
      "2.694993019104004\n",
      "16.57834792137146\n",
      "33.136630058288574\n",
      "41.75716686248779\n",
      "123.44310283660889\n",
      "217.61224007606506\n"
     ]
    }
   ],
   "source": [
    "# Compare different numbers of states\n",
    "DifferentStateNumberModels = []\n",
    "NStates = [8,16,24,32,64]\n",
    "t0 = time.time();\n",
    "for n in NStates :\n",
    "    model = hmm.PoissonHMM(n_components=n, n_iter=100, tol=1e-4, init_params='smt')\n",
    "    DifferentStateNumberModels.append(model)\n",
    "\n",
    "for idx in range(len(NStates)) :\n",
    "    t1 = time.time();\n",
    "    # Build an HMM instance and set parameters\n",
    "    DifferentStateNumberModels[idx].fit(StackedTrainingData, lengths=TrainingSequenceLengths)\n",
    "    t2 = time.time();\n",
    "    print(t2-t1)\n",
    "t3 = time.time();\n",
    "print(t3-t0) # ~120 s total"
   ]
  },
  {
   "cell_type": "code",
   "execution_count": 9,
   "metadata": {
    "collapsed": false
   },
   "outputs": [],
   "source": [
    "def ArrangeTransitionMatrix(tmat, means) :\n",
    "    [NStates, _] = tmat.shape\n",
    "    new_order = [0]\n",
    "    rem_states = np.arange(1,NStates).tolist()\n",
    "    cs = 0\n",
    "\n",
    "    for ii in np.arange(0,NStates-1):\n",
    "        nstilde = np.argmax(tmat[cs,rem_states])\n",
    "        ns = rem_states[nstilde]\n",
    "        rem_states.remove(ns)\n",
    "        cs = ns\n",
    "        new_order.append(cs)\n",
    "\n",
    "    tmatnew = tmat[:, new_order][new_order]\n",
    "    meanmat = means[new_order,:]\n",
    "    return [tmatnew, meanmat]"
   ]
  },
  {
   "cell_type": "code",
   "execution_count": 10,
   "metadata": {
    "collapsed": true
   },
   "outputs": [],
   "source": [
    "[newtmat, newmeans] = ArrangeTransitionMatrix(DifferentStateNumberModels[0].transmat_, DifferentStateNumberModels[0].means_)"
   ]
  },
  {
   "cell_type": "code",
   "execution_count": 15,
   "metadata": {
    "collapsed": false
   },
   "outputs": [
    {
     "data": {
      "image/png": "[encoded data removed]",
      "text/plain": [
       "<matplotlib.figure.Figure at 0x10bb90978>"
      ]
     },
     "metadata": {},
     "output_type": "display_data"
    }
   ],
   "source": [
    "from hinton import hinton\n",
    "f, axarr = plt.subplots(1,len(NStates))\n",
    "for idx in range(len(NStates)) :\n",
    "    plt.sca(axarr[idx])\n",
    "    [newtmat, newmeans] = ArrangeTransitionMatrix(DifferentStateNumberModels[idx].transmat_, DifferentStateNumberModels[idx].means_)\n",
    "    hinton(newtmat.T)\n",
    "\n"
   ]
  },
  {
   "cell_type": "code",
   "execution_count": null,
   "metadata": {
    "collapsed": false
   },
   "outputs": [],
   "source": [
    "DifferentStateNumberSequenceLL = []\n",
    "t1 = time.time();\n",
    "for idx in range(len(NStates)) :\n",
    "    DifferentStateNumberSequenceLL.append(np.zeros(NTest))\n",
    "    \n",
    "for idx in range(len(NStates)) :\n",
    "    for i in range(NTest) :\n",
    "        DifferentStateNumberSequenceLL[idx][i] = DifferentStateNumberModels[idx].score(BinSpikeRasters(SpikeRasters[0][NTrain + i]))\n",
    "    t2 = time.time();\n",
    "    print(t2-t1)\n",
    "    \n",
    "meanLL = []\n",
    "for ll in DifferentStateNumberSequenceLL:\n",
    "    meanLL.append(np.mean(ll))\n",
    "    \n",
    "print(meanLL)"
   ]
  }
 ],
 "metadata": {
  "kernelspec": {
   "display_name": "Python 3",
   "language": "python",
   "name": "python3"
  },
  "language_info": {
   "codemirror_mode": {
    "name": "ipython",
    "version": 3
   },
   "file_extension": ".py",
   "mimetype": "text/x-python",
   "name": "python",
   "nbconvert_exporter": "python",
   "pygments_lexer": "ipython3",
   "version": "3.5.1"
  }
 },
 "nbformat": 4,
 "nbformat_minor": 0
}
