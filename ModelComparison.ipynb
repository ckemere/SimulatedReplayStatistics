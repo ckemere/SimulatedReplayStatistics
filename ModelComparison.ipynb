{
 "cells": [
  {
   "cell_type": "code",
   "execution_count": 13,
   "metadata": {
    "collapsed": true
   },
   "outputs": [],
   "source": [
    "import pickle\n",
    "with open(\"vonMisesData_100neurons_extralong.p\", \"rb\") as input_file:\n",
    "    [NumNeurons, NeuronParameters, WorldParameters, Neurons, \n",
    "         NumTrajectories, TrajStartPos, RatRadialSpeed, TrajLength, SpikeRasters] = pickle.load(input_file)"
   ]
  },
  {
   "cell_type": "code",
   "execution_count": 14,
   "metadata": {
    "collapsed": false
   },
   "outputs": [
    {
     "name": "stderr",
     "output_type": "stream",
     "text": [
      "/Users/ckemere/anaconda/lib/python3.5/site-packages/matplotlib/__init__.py:872: UserWarning: axes.color_cycle is deprecated and replaced with axes.prop_cycle; please use the latter.\n",
      "  warnings.warn(self.msg_depr % (key, alt_key))\n"
     ]
    }
   ],
   "source": [
    "# All imports here...\n",
    "import numpy as np\n",
    "\n",
    "import time\n",
    "\n",
    "from hmmlearn import hmm # see https://github.com/ckemere/hmmlearn\n",
    "\n",
    "import seaborn as sns\n",
    "from matplotlib import pyplot as plt\n",
    "%matplotlib inline\n",
    "\n",
    "# display place field coverage of a particular environment\n",
    "sns.set(rc={'figure.figsize': (18, 4),'lines.linewidth': 2, 'font.size': 18, 'axes.labelsize': 16, 'legend.fontsize': 12, 'ytick.labelsize': 12, 'xtick.labelsize': 12 })\n",
    "sns.set_style(\"white\")"
   ]
  },
  {
   "cell_type": "code",
   "execution_count": 15,
   "metadata": {
    "collapsed": false
   },
   "outputs": [],
   "source": [
    "def BinSpikeRasters(Rasters, BinWidth=0.25, NBins=0) :\n",
    "    # Rasters is a list of ndarrays, where each array contains spike times for a neuron\n",
    "    if (NBins == 0) :\n",
    "        b = 0.0;\n",
    "        for spk_ts in Rasters :\n",
    "            if (len(spk_ts) > 0) :\n",
    "                b = max(b, (spk_ts[-1] / BinWidth))\n",
    "        NBins = np.int(np.ceil(b))\n",
    "    BinnedRasters = np.zeros((NBins, len(Rasters)))\n",
    "    \n",
    "    for k, spk_ts in enumerate(Rasters) :\n",
    "        for s in spk_ts :\n",
    "            BinnedRasters[np.int(s/BinWidth), k] += 1\n",
    "    return BinnedRasters"
   ]
  },
  {
   "cell_type": "code",
   "execution_count": 16,
   "metadata": {
    "collapsed": false
   },
   "outputs": [
    {
     "name": "stdout",
     "output_type": "stream",
     "text": [
      "Time elapsed for binning:  15.622438907623291\n"
     ]
    }
   ],
   "source": [
    "\n",
    "t0 = time.time();\n",
    "# Train model with first environment\n",
    "NTrain = 900\n",
    "NTest = 100\n",
    "BinWidth = 0.25 # 250 ms bins\n",
    "NBins = np.int(TrajLength / BinWidth)\n",
    "TrainingData = []\n",
    "for w in range(WorldParameters['NEnv']) :\n",
    "    TrainingData.append([])\n",
    "    for k in range(NTrain) :\n",
    "        TrainingData[w].append(BinSpikeRasters(SpikeRasters[w][k], BinWidth=BinWidth, NBins=NBins))\n",
    "t1 = time.time();\n",
    "print(\"Time elapsed for binning: \", t1-t0)\n",
    "\n",
    "\n"
   ]
  },
  {
   "cell_type": "code",
   "execution_count": 17,
   "metadata": {
    "collapsed": false
   },
   "outputs": [],
   "source": [
    "StackedTrainingData = []\n",
    "TrainingSequenceLengths = []\n",
    "for w in range(WorldParameters['NEnv']) :\n",
    "    StackedTrainingData.append(np.vstack(TrainingData[w]))\n",
    "    TrainingSequenceLengths.append(np.zeros(NTrain, dtype=int))\n",
    "    for idx,l in enumerate(TrainingData[w]) :\n",
    "        (TrainingSequenceLengths[w][idx], ncols) = l.shape\n"
   ]
  },
  {
   "cell_type": "code",
   "execution_count": 18,
   "metadata": {
    "collapsed": false
   },
   "outputs": [
    {
     "name": "stdout",
     "output_type": "stream",
     "text": [
      "70.77875995635986\n",
      "29.69406819343567\n",
      "108.31180906295776\n",
      "192.60882210731506\n",
      "401.40406584739685\n"
     ]
    }
   ],
   "source": [
    "# Compare different numbers of states\n",
    "DifferentStateNumberModels = []\n",
    "NStates = [8,10,20,30]\n",
    "t0 = time.time();\n",
    "for n in NStates :\n",
    "    model = hmm.PoissonHMM(n_components=n, n_iter=200, tol=1e-4, init_params='smc')\n",
    "    t_init = np.zeros((n,n))\n",
    "    for i in range(n):\n",
    "        for j in range(n) :\n",
    "            if (i > j) :\n",
    "                t_init[i][j] = 0.5**(np.abs(i-j))\n",
    "            else :\n",
    "                t_init[i][j] = 0.1**(np.abs(i-j))\n",
    "    from hmmlearn.utils import normalize\n",
    "    t_init = normalize(t_init, axis=1)\n",
    "    model.transmat_ = t_init\n",
    "    DifferentStateNumberModels.append(model)\n",
    "\n",
    "\n",
    "\n",
    "\n",
    "for idx in range(len(NStates)) :\n",
    "    t1 = time.time();\n",
    "    # Build an HMM instance and set parameters\n",
    "    DifferentStateNumberModels[idx].fit(StackedTrainingData[0], lengths=TrainingSequenceLengths[0])\n",
    "    \n",
    "    t2 = time.time();\n",
    "    print(t2-t1)\n",
    "t3 = time.time();\n",
    "print(t3-t0) # ~120 s total"
   ]
  },
  {
   "cell_type": "code",
   "execution_count": 19,
   "metadata": {
    "collapsed": false
   },
   "outputs": [
    {
     "data": {
      "image/png": "[encoded data removed]",
      "text/plain": [
       "<matplotlib.figure.Figure at 0x110da2080>"
      ]
     },
     "metadata": {},
     "output_type": "display_data"
    }
   ],
   "source": [
    "from hinton import hinton\n",
    "f, axarr = plt.subplots(1,len(NStates))\n",
    "for idx in range(len(NStates)) :\n",
    "    plt.sca(axarr[idx])\n",
    "    hinton(DifferentStateNumberModels[idx].transmat_)\n",
    "\n"
   ]
  },
  {
   "cell_type": "code",
   "execution_count": 20,
   "metadata": {
    "collapsed": false
   },
   "outputs": [
    {
     "name": "stderr",
     "output_type": "stream",
     "text": [
      "/Users/ckemere/anaconda/lib/python3.5/site-packages/matplotlib/__init__.py:872: UserWarning: axes.color_cycle is deprecated and replaced with axes.prop_cycle; please use the latter.\n",
      "  warnings.warn(self.msg_depr % (key, alt_key))\n"
     ]
    },
    {
     "data": {
      "image/png": "[encoded data removed]",
      "text/plain": [
       "<matplotlib.figure.Figure at 0x10b17ab70>"
      ]
     },
     "metadata": {},
     "output_type": "display_data"
    }
   ],
   "source": [
    "sns.set(rc={'figure.figsize': (4, 18),'lines.linewidth': 2, 'font.size': 18, 'axes.labelsize': 16, 'legend.fontsize': 12, 'ytick.labelsize': 12, 'xtick.labelsize': 12 })\n",
    "plt.pcolor(DifferentStateNumberModels[2].means_.T)\n",
    "sns.set(rc={'figure.figsize': (18, 4),'lines.linewidth': 2, 'font.size': 18, 'axes.labelsize': 16, 'legend.fontsize': 12, 'ytick.labelsize': 12, 'xtick.labelsize': 12 })"
   ]
  },
  {
   "cell_type": "code",
   "execution_count": 21,
   "metadata": {
    "collapsed": false
   },
   "outputs": [
    {
     "name": "stdout",
     "output_type": "stream",
     "text": [
      "0.514624834060669\n",
      "1.0450019836425781\n",
      "1.635638952255249\n",
      "2.2790749073028564\n",
      "[-34703.530535754777, -43819.153854386655, -85857.904189834691, -127453.96565718116]\n"
     ]
    }
   ],
   "source": [
    "DifferentStateNumberSequenceLL = []\n",
    "t1 = time.time();\n",
    "for idx in range(len(NStates)) :\n",
    "    DifferentStateNumberSequenceLL.append(np.zeros(NTest))\n",
    "    \n",
    "for idx in range(len(NStates)) :\n",
    "    for i in range(NTest) :\n",
    "        DifferentStateNumberSequenceLL[idx][i] = DifferentStateNumberModels[idx].score(BinSpikeRasters(SpikeRasters[0][NTrain + i]))\n",
    "    t2 = time.time();\n",
    "    print(t2-t1)\n",
    "    \n",
    "meanLL = []\n",
    "for ll in DifferentStateNumberSequenceLL:\n",
    "    meanLL.append(np.mean(ll))\n",
    "    \n",
    "print(meanLL)"
   ]
  },
  {
   "cell_type": "code",
   "execution_count": 22,
   "metadata": {
    "collapsed": false
   },
   "outputs": [
    {
     "data": {
      "text/plain": [
       "array([ 1.,  1.,  1.,  1.,  1.,  1.,  1.,  1.,  1.,  1.,  1.,  1.,  1.,\n",
       "        1.,  1.,  1.,  1.,  1.,  1.,  1.])"
      ]
     },
     "execution_count": 22,
     "metadata": {},
     "output_type": "execute_result"
    }
   ],
   "source": [
    "np.sum(DifferentStateNumberModels[2].transmat_,axis=1)"
   ]
  },
  {
   "cell_type": "code",
   "execution_count": 23,
   "metadata": {
    "collapsed": false
   },
   "outputs": [
    {
     "data": {
      "image/png": "[encoded data removed]",
      "text/plain": [
       "<matplotlib.figure.Figure at 0x10cfe0908>"
      ]
     },
     "metadata": {},
     "output_type": "display_data"
    }
   ],
   "source": [
    "f, axarr = plt.subplots(1,len(NStates))\n",
    "\n",
    "for idx,m in enumerate(DifferentStateNumberModels):\n",
    "    plt.sca(axarr[idx])\n",
    "    hinton(m.transmat_)\n",
    "\n"
   ]
  },
  {
   "cell_type": "code",
   "execution_count": 24,
   "metadata": {
    "collapsed": false
   },
   "outputs": [
    {
     "name": "stdout",
     "output_type": "stream",
     "text": [
      "[-34703.530535754777, -43819.153854386655, -85857.904189834691, -127453.96565718116]\n"
     ]
    }
   ],
   "source": [
    "meanLL = []\n",
    "for ll in DifferentStateNumberSequenceLL:\n",
    "    meanLL.append(np.mean(ll))\n",
    "print(meanLL)"
   ]
  }
 ],
 "metadata": {
  "kernelspec": {
   "display_name": "Python 3",
   "language": "python",
   "name": "python3"
  },
  "language_info": {
   "codemirror_mode": {
    "name": "ipython",
    "version": 3
   },
   "file_extension": ".py",
   "mimetype": "text/x-python",
   "name": "python",
   "nbconvert_exporter": "python",
   "pygments_lexer": "ipython3",
   "version": "3.5.0"
  }
 },
 "nbformat": 4,
 "nbformat_minor": 0
}
