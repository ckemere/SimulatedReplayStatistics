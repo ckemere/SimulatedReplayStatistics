{
 "cells": [
  {
   "cell_type": "code",
   "execution_count": 1,
   "metadata": {
    "collapsed": true
   },
   "outputs": [],
   "source": [
    "import pickle\n",
    "with open(\"vonMisesData_100neurons.p\", \"rb\") as input_file:\n",
    "    [NumNeurons, NeuronParameters, WorldParameters, Neurons, \n",
    "         NumTrajectories, TrajStartPos, RatRadialSpeed, TrajLength, SpikeRasters] = pickle.load(input_file)"
   ]
  },
  {
   "cell_type": "code",
   "execution_count": 2,
   "metadata": {
    "collapsed": false
   },
   "outputs": [
    {
     "name": "stderr",
     "output_type": "stream",
     "text": [
      "/Users/ckemere/anaconda/lib/python3.5/site-packages/matplotlib/__init__.py:872: UserWarning: axes.color_cycle is deprecated and replaced with axes.prop_cycle; please use the latter.\n",
      "  warnings.warn(self.msg_depr % (key, alt_key))\n"
     ]
    }
   ],
   "source": [
    "# All imports here...\n",
    "import numpy as np\n",
    "\n",
    "import time\n",
    "\n",
    "from hmmlearn import hmm # see https://github.com/ckemere/hmmlearn\n",
    "\n",
    "import seaborn as sns\n",
    "from matplotlib import pyplot as plt\n",
    "%matplotlib inline\n",
    "\n",
    "# display place field coverage of a particular environment\n",
    "sns.set(rc={'figure.figsize': (18, 4),'lines.linewidth': 2, 'font.size': 18, 'axes.labelsize': 16, 'legend.fontsize': 12, 'ytick.labelsize': 12, 'xtick.labelsize': 12 })\n",
    "sns.set_style(\"white\")"
   ]
  },
  {
   "cell_type": "code",
   "execution_count": 3,
   "metadata": {
    "collapsed": false
   },
   "outputs": [],
   "source": [
    "def BinSpikeRasters(Rasters, BinWidth=0.25, NBins=0) :\n",
    "    # Rasters is a list of ndarrays, where each array contains spike times for a neuron\n",
    "    if (NBins == 0) :\n",
    "        b = 0.0;\n",
    "        for spk_ts in Rasters :\n",
    "            if (len(spk_ts) > 0) :\n",
    "                b = max(b, (spk_ts[-1] / BinWidth))\n",
    "        NBins = np.int(np.ceil(b))\n",
    "    BinnedRasters = np.zeros((NBins, len(Rasters)))\n",
    "    \n",
    "    for k, spk_ts in enumerate(Rasters) :\n",
    "        for s in spk_ts :\n",
    "            BinnedRasters[np.int(s/BinWidth), k] += 1\n",
    "    return BinnedRasters"
   ]
  },
  {
   "cell_type": "code",
   "execution_count": 4,
   "metadata": {
    "collapsed": false
   },
   "outputs": [
    {
     "name": "stdout",
     "output_type": "stream",
     "text": [
      "Time elapsed for binning:  0.43337392807006836\n"
     ]
    }
   ],
   "source": [
    "\n",
    "t0 = time.time();\n",
    "# Train model with first environment\n",
    "NTrain = 90\n",
    "NTest = 10\n",
    "BinWidth = 0.25 # 250 ms bins\n",
    "NBins = np.int(TrajLength / BinWidth)\n",
    "TrainingData = []\n",
    "for w in range(WorldParameters['NEnv']) :\n",
    "    TrainingData.append([])\n",
    "    for k in range(NTrain) :\n",
    "        TrainingData[w].append(BinSpikeRasters(SpikeRasters[w][k], BinWidth=BinWidth, NBins=NBins))\n",
    "t1 = time.time();\n",
    "print(\"Time elapsed for binning: \", t1-t0)\n",
    "\n",
    "\n"
   ]
  },
  {
   "cell_type": "code",
   "execution_count": 63,
   "metadata": {
    "collapsed": false
   },
   "outputs": [],
   "source": [
    "[r,c] = TrainingData[w][0].shape\n",
    "StackedTrainingData = np.array((r,c))\n",
    "TrainingSequenceLengths = []\n",
    "\n",
    "\n",
    "for idx in range(len(TrainingData[0])) :\n",
    "    #l = np.random.random_integers(r/2,r)\n",
    "    l = r\n",
    "    TrainingSequenceLengths.append(l)\n",
    "\n",
    "    if (idx == 0) :\n",
    "        StackedTrainingData = TrainingData[0][idx][0:l,:]\n",
    "    else :\n",
    "        StackedTrainingData = np.vstack((StackedTrainingData,TrainingData[0][idx][0:l,:]))\n"
   ]
  },
  {
   "cell_type": "code",
   "execution_count": 66,
   "metadata": {
    "collapsed": false
   },
   "outputs": [
    {
     "name": "stderr",
     "output_type": "stream",
     "text": [
      "         2     -106563.2067       +4887.3102\n",
      "         3     -105998.4070        +564.7996\n",
      "         4     -105910.9680         +87.4390\n",
      "         5     -105892.9757         +17.9923\n",
      "         6     -105885.2564          +7.7193\n",
      "         7     -105882.0186          +3.2378\n",
      "         8     -105881.3267          +0.6918\n",
      "         9     -105881.1105          +0.2162\n",
      "        10     -105880.9959          +0.1147\n",
      "        11     -105880.9312          +0.0647\n",
      "        12     -105880.8955          +0.0357\n",
      "        13     -105880.8763          +0.0192\n",
      "        14     -105880.8663          +0.0101\n",
      "        15     -105880.8610          +0.0052\n"
     ]
    },
    {
     "data": {
      "text/plain": [
       "<matplotlib.image.AxesImage at 0x1056c6dd8>"
      ]
     },
     "execution_count": 66,
     "metadata": {},
     "output_type": "execute_result"
    },
    {
     "data": {
      "image/png": "[encoded data removed]",
      "text/plain": [
       "<matplotlib.figure.Figure at 0x10b9246d8>"
      ]
     },
     "metadata": {},
     "output_type": "display_data"
    },
    {
     "data": {
      "image/png": "[encoded data removed]",
      "text/plain": [
       "<matplotlib.figure.Figure at 0x10b94ac50>"
      ]
     },
     "metadata": {},
     "output_type": "display_data"
    }
   ],
   "source": [
    "# Watch as training progresses\n",
    "NStates = 8\n",
    "\n",
    "from sklearn.cluster import KMeans\n",
    "\n",
    "NPred = KMeans(n_clusters=NStates).fit(StackedTrainingData)\n",
    "#sns.set(rc={'figure.figsize': (10, 4),'lines.linewidth': 0, 'font.size': 18, 'axes.labelsize': 16, 'legend.fontsize': 12, 'ytick.labelsize': 12, 'xtick.labelsize': 12 })\n",
    "#sns.set_style(\"dark\")\n",
    "#plt.imshow(NPred.cluster_centers_,interpolation=\"none\", cmap='hot')\n",
    "\n",
    "model = hmm.PoissonHMM(n_components=NStates, n_iter=20, init_params='stm', params='stm', verbose=True)\n",
    "\n",
    "banded = np.zeros((NStates,NStates))\n",
    "for i in range(NStates):\n",
    "    for j in range(NStates) :\n",
    "        if i < j :\n",
    "            banded[i][j] = 0.5**(np.abs(i-j))\n",
    "        else:\n",
    "            banded[i][j] = 0.1**(np.abs(i-j))\n",
    "\n",
    "from hmmlearn.utils import normalize\n",
    "banded = normalize(banded, axis=1)\n",
    "\n",
    "#model.transmat_ = banded\n",
    "#model.means_ = NPred.cluster_centers_\n",
    "#model.means_ = np.dot(np.ones((NStates,1)), np.mean(StackedTrainingData,axis=0,keepdims=True))\n",
    "#model.means_[model.means_ < np.percentile(model.means_,50)] = 0\n",
    "\n",
    "model.fit(StackedTrainingData, lengths=TrainingSequenceLengths)\n",
    "plt.figure()\n",
    "plt.imshow(model.transmat_,interpolation=\"none\", cmap='hot')\n",
    "plt.figure()\n",
    "plt.imshow(model.means_,interpolation=\"none\", cmap='hot')\n",
    "\n"
   ]
  },
  {
   "cell_type": "code",
   "execution_count": 60,
   "metadata": {
    "collapsed": false
   },
   "outputs": [
    {
     "data": {
      "text/plain": [
       "array([ 40.])"
      ]
     },
     "execution_count": 60,
     "metadata": {},
     "output_type": "execute_result"
    }
   ],
   "source": [
    "TrainingSequenceLengths[-1]"
   ]
  },
  {
   "cell_type": "code",
   "execution_count": null,
   "metadata": {
    "collapsed": false,
    "scrolled": true
   },
   "outputs": [],
   "source": [
    "sns.set(rc={'figure.figsize': (40, 25),'lines.linewidth': 2, 'font.size': 18, 'axes.labelsize': 16, 'legend.fontsize': 12, 'ytick.labelsize': 12, 'xtick.labelsize': 12 })\n",
    "from hinton import hinton\n",
    "f, axarr = plt.subplots(2,6,squeeze=False)\n",
    "\n",
    "\n",
    "#model = hmm.PoissonHMM(n_components=NStates, n_iter=5, init_params='stm', params='t')\n",
    "#model = hmm.PoissonHMM(n_components=NStates, n_iter=1, covariance_type='diag', init_params='stm', params='tmc')\n",
    "model.fit(StackedTrainingData, lengths=TrainingSequenceLengths[0])\n",
    "plt.sca(axarr[0,0])\n",
    "plt.imshow(model.transmat_,interpolation=\"none\", cmap='magma')\n",
    "plt.sca(axarr[1,0])\n",
    "plt.imshow(model.means_.T,interpolation=\"none\", cmap='hot')\n",
    "\n",
    "initial_model = model\n",
    "\n",
    "for idx in range(5) :\n",
    "    # Build an HMM instance and set parameters\n",
    "    newmodel = hmm.PoissonHMM(n_components=NStates, n_iter=5, init_params='', params='tm')\n",
    "    newmodel.transmat_ = model.transmat_\n",
    "    newmodel.startprob_ = model.startprob_\n",
    "    newmodel.means_ = model.means_\n",
    "    #newmodel._covars_ = model._covars_\n",
    "    model = newmodel\n",
    "    model.fit(StackedTrainingData, lengths=TrainingSequenceLengths[0])\n",
    "    plt.sca(axarr[0,idx+1])\n",
    "    plt.imshow(model.transmat_,interpolation=\"none\", cmap='magma')\n",
    "    plt.sca(axarr[1,idx+1])\n",
    "    plt.imshow(model.means_.T,interpolation=\"none\", cmap='hot')\n",
    "\n"
   ]
  },
  {
   "cell_type": "code",
   "execution_count": null,
   "metadata": {
    "collapsed": false
   },
   "outputs": [],
   "source": [
    "# Watch as training progresses\n",
    "NStates = 20\n",
    "\n",
    "\n",
    "model = hmm.PoissonHMM(n_components=NStates, n_iter=5, init_params='st', params='t')\n",
    "#model = hmm.PoissonHMM(n_components=NStates, n_iter=5, init_params='stm', params='t')\n",
    "#model = hmm.PoissonHMM(n_components=NStates, n_iter=1, covariance_type='diag', init_params='stm', params='tmc')\n",
    "\n",
    "model.transmat_ = np.ones((NStates,NStates))/NStates\n",
    "model.means_ = NPred.cluster_centers_\n",
    "#model.means_[model.means_ < np.percentile(model.means_,95)] = 0\n",
    "model.fit(StackedTrainingData, lengths=TrainingSequenceLengths[0])\n",
    "\n",
    "\n",
    "sns.set(rc={'figure.figsize': (18, 8),'lines.linewidth': 2, 'font.size': 18, 'axes.labelsize': 16, 'legend.fontsize': 12, 'ytick.labelsize': 12, 'xtick.labelsize': 12 })\n",
    "\n",
    "ax = plt.subplot2grid((1,6),(0,0))\n",
    "plt.sca(ax)\n",
    "hinton(model.transmat_.T)\n",
    "#plt.imshow(model.transmat_,interpolation=\"none\", cmap='hot')\n",
    "#plt.imshow(model.means_.T,interpolation=\"none\", cmap='hot')\n",
    "\n",
    "\n",
    "banded = np.zeros((NStates,NStates))\n",
    "for i in range(NStates):\n",
    "    for j in range(NStates) :\n",
    "        banded[i][j] = 0.5**(np.abs(i-j))\n",
    "from hmmlearn.utils import normalize\n",
    "banded = normalize(banded, axis=1)\n",
    "\n",
    "def min_row_distance(M, N) :\n",
    "    assert M.shape == N.shape\n",
    "    min_distance = 1000\n",
    "    min_match_rows = [0,0]\n",
    "    [r,c] = M.shape\n",
    "    for i in range(r) :\n",
    "        for j in range(r) :\n",
    "            d = sum( (M[i,:] - N[j,:])**2 )\n",
    "            if (d < min_distance) :\n",
    "                min_match_rows = [i,j]\n",
    "                min_distance = d\n",
    "    return [min_match_rows, min_distance]\n",
    "\n",
    "bb = banded\n",
    "tm = np.copy(model.transmat_)\n",
    "dists = np.zeros(NStates)\n",
    "new_transmat = np.zeros(tm.shape)\n",
    "row_list = np.zeros(NStates)\n",
    "[min_rows, min_distance] = min_row_distance(bb,tm)\n",
    "\n",
    "for r in range(NStates) :\n",
    "    [min_rows, min_distance] = min_row_distance(bb,tm)\n",
    "    new_transmat[min_rows[0],:] = tm[min_rows[1],:]\n",
    "    row_list[min_rows[0]] = min_rows[1]\n",
    "    bb[min_rows[0],:] = np.nan\n",
    "    tm[min_rows[1],:] = np.nan\n",
    "    dists[r] = min_distance\n",
    "\n",
    "new_means = np.zeros(model.means_.shape)\n",
    "for i in range(NStates) :\n",
    "    new_means[i,:] = model.means_[row_list[i],:]\n",
    "    \n",
    "ax = plt.subplot2grid((1,6),(0,1))\n",
    "plt.sca(ax)\n",
    "hinton(new_transmat.T)\n",
    "#plt.imshow(new_transmat,interpolation=\"none\", cmap='hot')\n",
    "ax = plt.subplot2grid((1,6),(0,2), colspan=4)\n",
    "plt.sca(ax)\n",
    "plt.imshow(new_means,interpolation=\"none\", cmap='hot')\n",
    "\n"
   ]
  },
  {
   "cell_type": "code",
   "execution_count": null,
   "metadata": {
    "collapsed": false
   },
   "outputs": [],
   "source": [
    "newmodel = hmm.PoissonHMM(n_components=NStates, n_iter=10, init_params='s', params='tm')\n",
    "newmodel.transmat_ = new_transmat\n",
    "newmodel.means_ = model.means_\n",
    "newmodel.fit(StackedTrainingData, lengths=TrainingSequenceLengths[0])\n",
    "ax = plt.subplot2grid((1,4),(0,1))\n",
    "plt.sca(ax)\n",
    "hinton(newmodel.transmat_.T)\n",
    "#plt.imshow(new_transmat,interpolation=\"none\", cmap='hot')\n",
    "ax = plt.subplot2grid((1,4),(0,2), colspan=4)\n",
    "plt.sca(ax)\n",
    "plt.imshow(newmodel.means_,interpolation=\"none\", cmap='hot')\n"
   ]
  },
  {
   "cell_type": "code",
   "execution_count": null,
   "metadata": {
    "collapsed": false
   },
   "outputs": [],
   "source": [
    "# Compare different numbers of states\n",
    "DifferentStateNumberModels = []\n",
    "NStates = [8,10,12]\n",
    "t0 = time.time();\n",
    "for n in NStates :\n",
    "    model = hmm.PoissonHMM(n_components=n, n_iter=8, tol=1e-4, init_params='smt')\n",
    "    DifferentStateNumberModels.append(model)\n",
    "\n",
    "for idx in range(len(NStates)) :\n",
    "    t1 = time.time();\n",
    "    # Build an HMM instance and set parameters\n",
    "    DifferentStateNumberModels[idx].fit(StackedTrainingData, lengths=TrainingSequenceLengths[0])\n",
    "    t2 = time.time();\n",
    "    print(t2-t1)\n",
    "t3 = time.time();\n",
    "print(t3-t0) # ~120 s total"
   ]
  },
  {
   "cell_type": "code",
   "execution_count": null,
   "metadata": {
    "collapsed": false
   },
   "outputs": [],
   "source": [
    "from hinton import hinton\n",
    "f, axarr = plt.subplots(1,len(NStates))\n",
    "for idx in range(len(NStates)) :\n",
    "    plt.sca(axarr[idx])\n",
    "    hinton(DifferentStateNumberModels[idx].transmat_)\n",
    "\n"
   ]
  },
  {
   "cell_type": "code",
   "execution_count": null,
   "metadata": {
    "collapsed": false
   },
   "outputs": [],
   "source": [
    "DifferentStateNumberSequenceLL = []\n",
    "t1 = time.time();\n",
    "for idx in range(len(NStates)) :\n",
    "    DifferentStateNumberSequenceLL.append(np.zeros(NTest))\n",
    "    \n",
    "for idx in range(len(NStates)) :\n",
    "    for i in range(NTest) :\n",
    "        DifferentStateNumberSequenceLL[idx][i] = DifferentStateNumberModels[idx].score(BinSpikeRasters(SpikeRasters[0][NTrain + i]))\n",
    "    t2 = time.time();\n",
    "    print(t2-t1)\n",
    "    \n",
    "meanLL = []\n",
    "for ll in DifferentStateNumberSequenceLL:\n",
    "    meanLL.append(np.mean(ll))\n",
    "    \n",
    "print(meanLL)"
   ]
  }
 ],
 "metadata": {
  "kernelspec": {
   "display_name": "Python 3",
   "language": "python",
   "name": "python3"
  },
  "language_info": {
   "codemirror_mode": {
    "name": "ipython",
    "version": 3
   },
   "file_extension": ".py",
   "mimetype": "text/x-python",
   "name": "python",
   "nbconvert_exporter": "python",
   "pygments_lexer": "ipython3",
   "version": "3.5.0"
  }
 },
 "nbformat": 4,
 "nbformat_minor": 0
}
