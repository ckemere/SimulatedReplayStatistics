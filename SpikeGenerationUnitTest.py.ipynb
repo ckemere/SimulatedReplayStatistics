{
 "cells": [
  {
   "cell_type": "code",
   "execution_count": 1,
   "metadata": {
    "collapsed": false
   },
   "outputs": [],
   "source": [
    "from GenerateInhomogeneousPlaceCellSpikes import GenerateSpikes\n",
    "import matplotlib.pyplot as plt\n",
    "%matplotlib inline\n",
    "import seaborn as sns\n",
    "import numpy as np"
   ]
  },
  {
   "cell_type": "markdown",
   "metadata": {},
   "source": [
    "### Testing a _homogeneous_ Poisson process.\n",
    "#### Do we see that the simulated Fano Factor is 1?\n",
    "For our first test, let's use a constant rate of spiking and a constant rate of running through the maze. We'll set it up so there's just one pass through the maze and a high rate so that we observe many spikes. We'll bin time and then ask about the mean and variance of spikes per bin."
   ]
  },
  {
   "cell_type": "code",
   "execution_count": 2,
   "metadata": {
    "collapsed": true
   },
   "outputs": [],
   "source": [
    "def intensityFun(x,tlast) :\n",
    "    return 40 * np.ones(np.size(x));\n",
    "\n",
    "testNeuron = {'MaxRate': 40, 'IntensityFunction': intensityFun};\n",
    "\n",
    "def posFun(t) :\n",
    "    return t/20\n",
    "\n",
    "TLength = 1000; # Length of experiment\n"
   ]
  },
  {
   "cell_type": "code",
   "execution_count": 3,
   "metadata": {
    "collapsed": false
   },
   "outputs": [
    {
     "data": {
      "text/plain": [
       "(40.225000000000001, 42.532375000000002)"
      ]
     },
     "execution_count": 3,
     "metadata": {},
     "output_type": "execute_result"
    }
   ],
   "source": [
    "SpikeTimes = GenerateSpikes(testNeuron, posFun, TLength);\n",
    "\n",
    "BinSize = 1; # Seconds, so that intensity function and spike counts match in units!\n",
    "TimeBins = np.arange(0,TLength+0.1,BinSize); # Need to add a little bit to account for end\n",
    "BinnedSpikes,SpaceIdx = np.histogram(SpikeTimes, TimeBins);\n",
    "\n",
    "# Mean and variance should be the same!\n",
    "(np.mean(BinnedSpikes), np.var(BinnedSpikes))"
   ]
  },
  {
   "cell_type": "markdown",
   "metadata": {},
   "source": [
    "### Testing an _inhomogeneous_ Poisson Process\n",
    "*Next let's actually make up a place field with non-uniform speed behavior and an inhomogeneous rate.*\n",
    "\n",
    "We'll assume that the behavior is cosine-smooth from 0 to 1 and back. "
   ]
  },
  {
   "cell_type": "code",
   "execution_count": 4,
   "metadata": {
    "collapsed": true
   },
   "outputs": [],
   "source": [
    "def posFun(t) :\n",
    "    return (1 - np.cos(2*np.pi * t / 20))/2; # go from 0 to 1 meter in 20 s (and then back)"
   ]
  },
  {
   "cell_type": "markdown",
   "metadata": {},
   "source": [
    "Let's make the place field Gaussian so that it will look nice. Note that this function will be called with a position vector and the history of (potential) spike times. These could be used to, e.g., impose a refractory period, but we won't do that here."
   ]
  },
  {
   "cell_type": "code",
   "execution_count": 5,
   "metadata": {
    "collapsed": true
   },
   "outputs": [],
   "source": [
    "def intensityFun(x,thistory) :\n",
    "    return 5*np.exp(-(x - 0.5)**2/(2 * 0.01));"
   ]
  },
  {
   "cell_type": "markdown",
   "metadata": {},
   "source": [
    "Be careful in specifying the maximum firing rate. This needs to be equal-to or larger than the maximum value of the conditional intensity"
   ]
  },
  {
   "cell_type": "code",
   "execution_count": 6,
   "metadata": {
    "collapsed": true
   },
   "outputs": [],
   "source": [
    "testNeuron = {'MaxRate': 5, 'IntensityFunction': intensityFun};\n",
    "    \n",
    "TLength = 10000; # Simulate 10000 seconds (at 20 s per pass, this is 500 passes)\n",
    "SpikeTimes = GenerateSpikes(testNeuron, posFun, TLength);"
   ]
  },
  {
   "cell_type": "markdown",
   "metadata": {},
   "source": [
    "To calculate empirical tuning curve, we will use \"binned occupancy\". To do this, we need to:\n",
    "  - bin position as-a-function-of time (giving us total occupancy in seconds per spatial bin)\n",
    "  - bin spikes as-a-function-of space (giving us total spikes per spatial bin)\n",
    "  \n",
    "Dividing these two will yield a *firing rate as a function of position* (which is the normal definition of a place field)."
   ]
  },
  {
   "cell_type": "code",
   "execution_count": 7,
   "metadata": {
    "collapsed": false
   },
   "outputs": [
    {
     "data": {
      "image/png": "[encoded data removed]",
      "text/plain": [
       "<matplotlib.figure.Figure at 0x109a402b0>"
      ]
     },
     "metadata": {},
     "output_type": "display_data"
    }
   ],
   "source": [
    "BehavioralSamplingRate = 100; # Camera frame rate is 100 Hz\n",
    "tvec = np.arange(0,TLength+1/BehavioralSamplingRate,1/BehavioralSamplingRate);\n",
    "BehavioralData = posFun(tvec); # This is his position as a function of time sampled at camera rate\n",
    "\n",
    "# Set up spatial bins, and find spatial occupancy and spike occupancy\n",
    "BinSize = 0.02; # This will be the bin size for the PSTH. \n",
    "                # Can't be smaller than camera rate because then those bins are zero\n",
    "SpaceBins = np.arange(0,1 + BinSize/2,BinSize); # Need to add a little bit to account for end\n",
    "\n",
    "BinnedBehavior,SpaceIdx = np.histogram(BehavioralData, SpaceBins);\n",
    "BinnedSpikes,SpaceIdx = np.histogram(posFun(SpikeTimes), SpaceBins);\n",
    "\n",
    "BinnedBehavioralTime = BinnedBehavior / BehavioralSamplingRate; # Behavior is sampled at 100 Hz, so time is 10ms bins\n",
    "EmpiricalTuningCurve = BinnedSpikes / BinnedBehavioralTime;\n",
    "\n",
    "sns.set(rc={'figure.figsize': (12,4)})\n",
    "sns.set_style('white')\n",
    "plt.bar(SpaceIdx[0:-1], EmpiricalTuningCurve, BinSize)\n",
    "plt.plot(SpaceIdx + BinSize/2, intensityFun(SpaceIdx + BinSize/2,0), 'r-'); # Actually extends one extra bin!"
   ]
  }
 ],
 "metadata": {
  "kernelspec": {
   "display_name": "Python 3",
   "language": "python",
   "name": "python3"
  },
  "language_info": {
   "codemirror_mode": {
    "name": "ipython",
    "version": 3
   },
   "file_extension": ".py",
   "mimetype": "text/x-python",
   "name": "python",
   "nbconvert_exporter": "python",
   "pygments_lexer": "ipython3",
   "version": "3.4.3"
  }
 },
 "nbformat": 4,
 "nbformat_minor": 0
}
