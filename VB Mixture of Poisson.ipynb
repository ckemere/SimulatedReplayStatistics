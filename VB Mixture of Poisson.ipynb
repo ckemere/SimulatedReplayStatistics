{
 "cells": [
  {
   "cell_type": "code",
   "execution_count": 79,
   "metadata": {
    "collapsed": false
   },
   "outputs": [
    {
     "name": "stdout",
     "output_type": "stream",
     "text": [
      "Iteration 1: loglike=-2.495923e+04 (0.008 seconds)\n",
      "Iteration 2: loglike=-2.467279e+04 (0.007 seconds)\n",
      "Iteration 3: loglike=-2.279212e+04 (0.005 seconds)\n",
      "Iteration 4: loglike=-1.989783e+04 (0.005 seconds)\n",
      "Iteration 5: loglike=-1.914782e+04 (0.005 seconds)\n",
      "Iteration 6: loglike=-1.904268e+04 (0.006 seconds)\n",
      "Converged at iteration 6.\n"
     ]
    }
   ],
   "source": [
    "\n",
    "import numpy as np\n",
    "y1 = np.random.poisson([5,0.1,4],size=(1000,3))\n",
    "y2 = np.random.poisson([3,6,0.3],size=(1000,3))\n",
    "y3 = np.random.poisson([1,6,6],size=(1000,3))\n",
    "y = np.vstack([y1,y2,y3])\n",
    "\n",
    "\n",
    "from bayespy.nodes import Categorical, Dirichlet, Mixture, Poisson, Gamma\n",
    "\n",
    "beta = 1\n",
    "alpha = 10\n",
    "K = 10 # Number of states\n",
    "(NSamples,D) = y.shape\n",
    "\n",
    "rate_parameter = Gamma(alpha, beta, plates=(D,K))\n",
    "a0 = Dirichlet(1e-3*np.ones(K))\n",
    "\n",
    "Z = Categorical(a0, plates=(NSamples, 1))\n",
    "Y = Mixture(Z, Poisson, rate_parameter)\n",
    "Y.observe(y)\n",
    "Z.initialize_from_random()\n",
    "\n",
    "from bayespy.inference import VB\n",
    "Q = VB(Y, rate_parameter, Z, a0)\n",
    "\n",
    "Q.set_annealing(1)\n",
    "\n",
    "Q.update(repeat=100, tol=1e-2)\n",
    "Q.set_annealing(1)\n",
    "Q.update(repeat=100, tol=1e-2)\n"
   ]
  },
  {
   "cell_type": "code",
   "execution_count": 80,
   "metadata": {
    "collapsed": false
   },
   "outputs": [
    {
     "name": "stdout",
     "output_type": "stream",
     "text": [
      " ~ Dirichlet(alpha)\n",
      "  alpha =\n",
      "[ 688.66896239   81.27511654  115.69195451   86.89996273  854.47424262\n",
      "  133.65308624   38.4278595   693.0906839   246.52378053   61.30435104]\n"
     ]
    }
   ],
   "source": [
    "a0.show()"
   ]
  },
  {
   "cell_type": "code",
   "execution_count": 68,
   "metadata": {
    "collapsed": false
   },
   "outputs": [],
   "source": [
    "zz = Z.get_moments()"
   ]
  },
  {
   "cell_type": "code",
   "execution_count": 81,
   "metadata": {
    "collapsed": false
   },
   "outputs": [
    {
     "name": "stderr",
     "output_type": "stream",
     "text": [
      "/Users/ckemere/anaconda/lib/python3.5/site-packages/matplotlib/__init__.py:872: UserWarning: axes.color_cycle is deprecated and replaced with axes.prop_cycle; please use the latter.\n",
      "  warnings.warn(self.msg_depr % (key, alt_key))\n"
     ]
    },
    {
     "data": {
      "image/png": "[encoded data removed]",
      "text/plain": [
       "<matplotlib.figure.Figure at 0x1082be4a8>"
      ]
     },
     "metadata": {},
     "output_type": "display_data"
    }
   ],
   "source": [
    "import seaborn as sns\n",
    "from matplotlib import pyplot as plt\n",
    "%matplotlib inline\n",
    "\n",
    "# display place field coverage of a particular environment\n",
    "sns.set(rc={'figure.figsize': (18, 4),'lines.linewidth': 2, 'font.size': 18, 'axes.labelsize': 16, 'legend.fontsize': 12, 'ytick.labelsize': 12, 'xtick.labelsize': 12 })\n",
    "sns.set_style(\"white\")\n",
    "import bayespy.plot as bpplt\n",
    "bpplt.hinton(rate_parameter)"
   ]
  },
  {
   "cell_type": "code",
   "execution_count": 67,
   "metadata": {
    "collapsed": false
   },
   "outputs": [
    {
     "data": {
      "text/plain": [
       "array([[  5.24031462e-05,   1.30532033e-08,   4.23022314e-09,\n",
       "          3.02845026e-07,   9.99585710e-01,   4.72991529e-10,\n",
       "          3.61546191e-04,   1.55877644e-08,   2.41408953e-09,\n",
       "          2.34174164e-09]])"
      ]
     },
     "execution_count": 67,
     "metadata": {},
     "output_type": "execute_result"
    }
   ],
   "source": [
    "zz[0][102]"
   ]
  }
 ],
 "metadata": {
  "kernelspec": {
   "display_name": "Python 3",
   "language": "python",
   "name": "python3"
  },
  "language_info": {
   "codemirror_mode": {
    "name": "ipython",
    "version": 3
   },
   "file_extension": ".py",
   "mimetype": "text/x-python",
   "name": "python",
   "nbconvert_exporter": "python",
   "pygments_lexer": "ipython3",
   "version": "3.5.0"
  }
 },
 "nbformat": 4,
 "nbformat_minor": 0
}
